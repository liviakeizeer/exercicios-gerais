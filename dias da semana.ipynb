{
  "nbformat": 4,
  "nbformat_minor": 0,
  "metadata": {
    "colab": {
      "provenance": []
    },
    "kernelspec": {
      "name": "python3",
      "display_name": "Python 3"
    },
    "language_info": {
      "name": "python"
    }
  },
  "cells": [
    {
      "cell_type": "code",
      "execution_count": null,
      "metadata": {
        "id": "iu6atT_X6fgd"
      },
      "outputs": [],
      "source": [
        "print(\"Selecione o dia da semana\")\n",
        "print(\"1-domingo\")\n",
        "print(\"2-segunda\")\n",
        "print(\"3-terça\")\n",
        "print(\"4-quarta\")\n",
        "print(\"5-quinta\")\n",
        "print(\"6-sexta\")\n",
        "print(\"7-sabado\")\n",
        "a=input(\"insira o numero correspondente  \")\n",
        "if a == \"1\":\n",
        "  print(\"domigo\")\n",
        "elif a == \"2\":\n",
        "  print(\"segunda\")\n",
        "elif a== \"3\":\n",
        "  print(\"terça\")\n",
        "elif a== \"4\":\n",
        "  print(\"quarta\")\n",
        "elif a==\"5\":\n",
        "  print(\"quinta\")\n",
        "elif a==\"6\":\n",
        "  print(\"sexta\")\n",
        "elif a==\"7\":\n",
        "  print(\"sabado\")\n",
        "else:\n",
        "  print(\"não entendi\")"
      ]
    }
  ]
}