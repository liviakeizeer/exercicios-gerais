{
  "nbformat": 4,
  "nbformat_minor": 0,
  "metadata": {
    "colab": {
      "provenance": []
    },
    "kernelspec": {
      "name": "python3",
      "display_name": "Python 3"
    },
    "language_info": {
      "name": "python"
    }
  },
  "cells": [
    {
      "cell_type": "code",
      "execution_count": null,
      "metadata": {
        "id": "BUaGR9-8Dj7G"
      },
      "outputs": [],
      "source": [
        "# exercicio 15\n",
        "# Faça um programa que peça dois números, base e expoente\n",
        "milho= 1\n",
        "base=int(input(\"digite o numero:\"))\n",
        "exp=int(input(\"digite o expoente\"))\n",
        "for result in range(exp):\n",
        " milho *= base\n",
        "print(f\"o resultado de base vezes o expoente é :{milho}\")\n",
        "# calcule\n",
        "# e mostre o primeiro número elevado ao segundo número.\n",
        "# Não utilize a função de potência da linguagem."
      ]
    }
  ]
}