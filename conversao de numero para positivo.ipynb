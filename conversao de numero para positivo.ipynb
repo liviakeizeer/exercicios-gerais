{
  "nbformat": 4,
  "nbformat_minor": 0,
  "metadata": {
    "colab": {
      "provenance": []
    },
    "kernelspec": {
      "name": "python3",
      "display_name": "Python 3"
    },
    "language_info": {
      "name": "python"
    }
  },
  "cells": [
    {
      "cell_type": "code",
      "execution_count": null,
      "metadata": {
        "id": "F8d2Guk01Soy"
      },
      "outputs": [],
      "source": [
        "# Solicita ao usuário para digitar um número e converte o valor para inteiro\n",
        "a =int( input(\"digite o primeiro numero \"))\n",
        "# Verifica se o número digitado é maior que zero\n",
        "if a >= 0:\n",
        "  # Se o número for maior que zero, imprime que o número é positivo\n",
        "  print(a)\n",
        "  print(\"o numero \" ,a,\"é positivo\")\n",
        "else:\n",
        "  # Se o número não for maior que zero, imprime que o núm ero é negativo\n",
        "  print(a)\n",
        "  print(\"o numero \" , a, \"é negativo\")\n"
      ]
    }
  ]
}