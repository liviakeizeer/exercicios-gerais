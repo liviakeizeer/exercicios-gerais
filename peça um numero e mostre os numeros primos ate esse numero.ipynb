{
  "nbformat": 4,
  "nbformat_minor": 0,
  "metadata": {
    "colab": {
      "provenance": []
    },
    "kernelspec": {
      "name": "python3",
      "display_name": "Python 3"
    },
    "language_info": {
      "name": "python"
    }
  },
  "cells": [
    {
      "cell_type": "code",
      "execution_count": null,
      "metadata": {
        "id": "redyYKeoDkCa"
      },
      "outputs": [],
      "source": [
        "# Faça um programa que mostre todos os primos entre 1 e N sendo N um\n",
        "# número inteiro fornecido pelo usuário. O programa deverá mostrar também\n",
        "# o número de divisões que ele executou para encontrar os números primos.\n",
        "# Serão avaliados o funcionamento, o estilo e o número de testes (divisões)\n",
        "# executados.\n",
        "div=0\n",
        "n=int(input(\"digite o limite de numeros primos que deseja \"))\n",
        "for c in range(2, n ):\n",
        "  primo=True\n",
        "  for batata in range(2, int(c**0.5) +1):\n",
        "     div += 1\n",
        "     if c % batata == 0:\n",
        "      primo=False\n",
        "      break\n",
        "  if primo:\n",
        "    print(c)\n",
        "\n",
        "print(div)"
      ]
    }
  ]
}