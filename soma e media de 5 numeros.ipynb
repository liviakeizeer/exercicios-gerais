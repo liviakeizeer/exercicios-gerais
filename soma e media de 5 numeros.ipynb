{
  "nbformat": 4,
  "nbformat_minor": 0,
  "metadata": {
    "colab": {
      "provenance": []
    },
    "kernelspec": {
      "name": "python3",
      "display_name": "Python 3"
    },
    "language_info": {
      "name": "python"
    }
  },
  "cells": [
    {
      "cell_type": "code",
      "execution_count": null,
      "metadata": {
        "id": "bfNJC79o7DUB"
      },
      "outputs": [],
      "source": [
        "soma = 0\n",
        "for n in range(5):\n",
        " numero=float(input(f\"digite o {n+1}º numero:\"))\n",
        " soma += soma/5\n",
        " print(f\"a soma dos numeros é:{soma}\")\n",
        " print(f\"a media dos numeros é:{media}\")"
      ]
    }
  ]
}