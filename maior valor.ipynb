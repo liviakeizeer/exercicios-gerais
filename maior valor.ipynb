{
  "nbformat": 4,
  "nbformat_minor": 0,
  "metadata": {
    "colab": {
      "provenance": []
    },
    "kernelspec": {
      "name": "python3",
      "display_name": "Python 3"
    },
    "language_info": {
      "name": "python"
    }
  },
  "cells": [
    {
      "cell_type": "code",
      "execution_count": null,
      "metadata": {
        "id": "GGp5XsQi4oIA"
      },
      "outputs": [],
      "source": [
        "# Solicita ao usuário que insira o primeiro número e armazena o valor em 'a'\n",
        "a=float(input(\"INSIRA O PRIMEIRO NUMERO\"))\n",
        "# Solicita ao usuário que insira o segundo número e armazena o valor em 'b'\n",
        "b=float(input(\"INSIRA O SEGUNDO NUMERO\"))\n",
        "# Solicita ao usuário que insira o terceiro número e armazena o valor em 'c'\n",
        "c=float(input(\"INSIRA O TERCEIRO NUMERO\"))\n",
        "# Verifica se 'a' é maior que 'b' e 'c'\n",
        "# Se 'a' for o maior, imprime 'a'\n",
        "if a > b and a > c:\n",
        "  print(\"o maior valor é \",a)\n",
        "# Se 'a' não for o maior, verifica se 'b' é maior que 'a' e'c'\n",
        "# Se 'b' for o maior, imprime 'b'\n",
        "elif b > a and b > c:\n",
        "  print(\"o maior valor é \",b)\n",
        "# Se 'a' e 'b' não forem os maiores, 'c' deve ser o maior\n",
        "# Se 'c' for o maior, imprime 'c'\n",
        "else:\n",
        "  print(\"o maior valor é\",c)"
      ]
    }
  ]
}