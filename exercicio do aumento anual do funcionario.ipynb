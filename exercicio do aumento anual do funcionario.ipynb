{
  "nbformat": 4,
  "nbformat_minor": 0,
  "metadata": {
    "colab": {
      "provenance": []
    },
    "kernelspec": {
      "name": "python3",
      "display_name": "Python 3"
    },
    "language_info": {
      "name": "python"
    }
  },
  "cells": [
    {
      "cell_type": "code",
      "execution_count": null,
      "metadata": {
        "id": "T-1NsOerBhYy"
      },
      "outputs": [],
      "source": [
        "# exercicio 11\n",
        "# Um funcionário de uma empresa recebe aumento salarial anualmente:\n",
        "# Sabe-se que:Esse funcionário foi contratado em 1995, com salário inicial de R$ 1.000,00;\n",
        "# Em 1996 recebeu aumento de 1,5% sobre seu salário inicial; A partir de\n",
        "# 1997 (inclusive), os aumentos salariais sempre correspondem ao dobro do\n",
        "# percentual do ano anterior. Faça um programa que determine o salário\n",
        "# atual desse funcionário. Após concluir isto, altere o programa permitindo\n",
        "# que o usuário digite o salário inicial do funcionário.\n",
        "salario=float(input(\"digite o falrio inicial do funcionario\"))\n",
        "percentual= 0.015\n",
        "\n",
        "for i in range(1990,2023)\n",
        " aumento = salario * percentual\n",
        " salario += aumento\n",
        " percentual *=2\n",
        " print(f\"salario em {i} = {salario:.2f}\")"
      ]
    }
  ]
}