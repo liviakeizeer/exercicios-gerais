{
  "nbformat": 4,
  "nbformat_minor": 0,
  "metadata": {
    "colab": {
      "provenance": []
    },
    "kernelspec": {
      "name": "python3",
      "display_name": "Python 3"
    },
    "language_info": {
      "name": "python"
    }
  },
  "cells": [
    {
      "cell_type": "code",
      "execution_count": null,
      "metadata": {
        "id": "oxUHOGvo1zaB"
      },
      "outputs": [],
      "source": [
        "# Solicita ao usuário para digitar \"M\" para Masculino ou \"F\" para Feminino\n",
        "from re import A\n",
        "a = input(\"digite a letra F(feminino) ou M(masculino)\")\n",
        "#verifique se a opcao é a letra F\n",
        "if a == \"F\" or a == \"f\":\n",
        "  print(\"Você selecionou a opção feminino\")\n",
        "# Verifica se a entrada é \"M\" (Masculino)\n",
        "elif a == \"M\" or a == \"m\":\n",
        "    print(\"Você selecionou a opção masculino\")\n",
        "# Se a entrada for \"M\", imprime \"Sexo masculino\" # Se a entrada não for\n",
        "else:\n",
        "      print(\"Resposta invalida\")\n",
        "# Se a entrada não for nem \"M\" nem \"F\", imprime \"Sexo inváldo\"\n"
      ]
    }
  ]
}