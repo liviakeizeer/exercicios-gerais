{
  "nbformat": 4,
  "nbformat_minor": 0,
  "metadata": {
    "colab": {
      "provenance": []
    },
    "kernelspec": {
      "name": "python3",
      "display_name": "Python 3"
    },
    "language_info": {
      "name": "python"
    }
  },
  "cells": [
    {
      "cell_type": "code",
      "execution_count": null,
      "metadata": {
        "id": "TgVDbkkg6Bq9"
      },
      "outputs": [],
      "source": [
        "# Solicita ao usuário que insira o turno de estudo e armazena a entrada em 'a'\n",
        "print(\"Ola aluno!\")\n",
        "print(\"SELECIONE UM PERIODO\")\n",
        "print(\"M-matutino\")\n",
        "print(\"V-vespertino\")\n",
        "print(\"N-noturno\")\n",
        "a=input(\"Insira o horario de estudo M-matutino ou V-vespertino ou N-noturno.\")\n",
        "if a == \"m\" or a == \"M\":\n",
        "  print(\"Bom dia!\")\n",
        "elif a == \"V\" or a ==\"v\":\n",
        "  print(\"Boa tarde!\")\n",
        "elif a == \"N\" or a == \"n\":\n",
        "  print(\"Boa noite!\")\n",
        "else:\n",
        "  print(\"desculpe,não entendi\")\n",
        "# Verifica qual foi o turno inserido e imprime a saudação correspondente"
      ]
    }
  ]
}