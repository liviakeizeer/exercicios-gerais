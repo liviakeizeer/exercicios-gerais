{
  "nbformat": 4,
  "nbformat_minor": 0,
  "metadata": {
    "colab": {
      "provenance": []
    },
    "kernelspec": {
      "name": "python3",
      "display_name": "Python 3"
    },
    "language_info": {
      "name": "python"
    }
  },
  "cells": [
    {
      "cell_type": "code",
      "execution_count": null,
      "metadata": {
        "id": "xKKiSGGaACzS"
      },
      "outputs": [],
      "source": [
        "#exercicio 8\n",
        "#Faça um programa que receba dois números inteiros e gere os números\n",
        "#inteiros que estão no intervalo compreendido por eles.\n",
        "num1=int(input(\"digite um numero--> \"))\n",
        "num2=int(input(\"digite outro numero--> \"))\n",
        "\tfor i in range(num1,num2,1):\n",
        "\t\tprint(i)\n"
      ]
    }
  ]
}