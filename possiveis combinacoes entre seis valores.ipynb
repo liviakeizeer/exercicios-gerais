{
  "nbformat": 4,
  "nbformat_minor": 0,
  "metadata": {
    "colab": {
      "provenance": []
    },
    "kernelspec": {
      "name": "python3",
      "display_name": "Python 3"
    },
    "language_info": {
      "name": "python"
    }
  },
  "cells": [
    {
      "cell_type": "code",
      "execution_count": null,
      "metadata": {
        "id": "23NyJvIR5q-o"
      },
      "outputs": [],
      "source": [
        "print(\"valores em ordem decrescente\")\n",
        "# Solicita ao usuário que insira três números e armazena os valores em 'a', 'b' e 'c'\n",
        "a=float(input(\"INSIRA O PRIMEIRO NUMERO \"))\n",
        "# Solicita ao usuário que insira o segundo número e armazena o valor em 'b'\n",
        "b=float(input(\"INSIRA O SEGUNDO NUMERO \"))\n",
        "# Solicita ao usuário que insira o terceiro número e armazena o valor em 'c'\n",
        "c=float(input(\"INSIRA O TERCEIRO NUMERO \"))\n",
        "# Verifica todas as seis possíveis combinações de ordem dos três números e imprime a combinação na ordem não decrescente\n",
        "if a > b and b > c:\n",
        "  print(a,b,c)\n",
        "elif b > a and a > c:\n",
        "  print(b,a,c)\n",
        "elif a > c and c > b:\n",
        "  print(a,c,b)\n",
        "elif b > c and c > a:\n",
        "  print(b,c,a)\n",
        "elif c > a and a > b:\n",
        "  print(c,a,b)\n",
        "else:\n",
        "  print(c,b,a)"
      ]
    }
  ]
}