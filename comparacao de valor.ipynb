{
  "nbformat": 4,
  "nbformat_minor": 0,
  "metadata": {
    "colab": {
      "provenance": []
    },
    "kernelspec": {
      "name": "python3",
      "display_name": "Python 3"
    },
    "language_info": {
      "name": "python"
    }
  },
  "cells": [
    {
      "cell_type": "code",
      "execution_count": null,
      "metadata": {
        "id": "mUpVGJEy6TtI"
      },
      "outputs": [],
      "source": [
        "a=float(input(\"insira o valor do primeiro produto \"))\n",
        "b=float(input(\"insira o valor do primeiro produto \"))\n",
        "if a>b:\n",
        "  print(\"o maior valor é\",a)\n",
        "else:\n",
        "  print(\"o maior valor é\",b)"
      ]
    }
  ]
}