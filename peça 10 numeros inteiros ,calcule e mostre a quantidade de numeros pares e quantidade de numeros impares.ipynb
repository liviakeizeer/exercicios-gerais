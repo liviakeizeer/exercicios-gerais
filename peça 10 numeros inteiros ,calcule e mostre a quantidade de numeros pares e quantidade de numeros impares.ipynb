{
  "nbformat": 4,
  "nbformat_minor": 0,
  "metadata": {
    "colab": {
      "provenance": []
    },
    "kernelspec": {
      "name": "python3",
      "display_name": "Python 3"
    },
    "language_info": {
      "name": "python"
    }
  },
  "cells": [
    {
      "cell_type": "code",
      "execution_count": null,
      "metadata": {
        "id": "6mW-bew0BTm4"
      },
      "outputs": [],
      "source": [
        "#exercicio 10\n",
        "#Faça um programa que peça 10 números inteiros, calcule e mostre a\n",
        "#quantidade de números pares e a quantidade de números impares.\n",
        "numeroimpar=0\n",
        "numeropar=0\n",
        "for c in range(10):\n",
        " num1=int(input(\"digite um numero--> \"))\n",
        " if  num1 % 2 == 1 :\n",
        "  numeroimpar+=1\n",
        " elif  num1 % 2 == 0 :\n",
        "  numeropar+=1\n",
        "print(f\"numeros pares:{numeropar}\")\n",
        "print(f\"numeros impares:{numeroimpar}\")\n"
      ]
    }
  ]
}