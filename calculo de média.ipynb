{
  "nbformat": 4,
  "nbformat_minor": 0,
  "metadata": {
    "colab": {
      "provenance": []
    },
    "kernelspec": {
      "name": "python3",
      "display_name": "Python 3"
    },
    "language_info": {
      "name": "python"
    }
  },
  "cells": [
    {
      "cell_type": "code",
      "execution_count": null,
      "metadata": {
        "id": "baItR1d94cbq"
      },
      "outputs": [],
      "source": [
        "# Solicita ao usuário que insira a nota da primeira parcial e a armazena em 'parcial1'\n",
        "nota1 = float(input(\"insira a nota da primeira parcial \"))\n",
        "# Solicita ao usuário que insira a nota da segunda parcial e a armazena em 'parcial2'\n",
        "nota2 = float(input(\"insira a nota da segunda parcial \"))\n",
        "# Calcula a média das duas parciais\n",
        "media =(nota1+nota2)/2\n",
        "# Verifica se a média é igual a 10\n",
        "# Se a média for igual a 10, imprime \"Aprovado com distinção\"\n",
        "if media == 10:\n",
        "  print(\"Aprovado com distinção\")\n",
        "# Se a média não for igual a 10, verifica se é maior ou igual a 7\n",
        "# Se a média for maior ou igual a 7, imprime \"Aprovado\"\n",
        "elif media >=7:\n",
        "  print(\"Aprovado\")\n",
        "# Se a média não for nem igual a 10 nem maior ou igual a 7, imprime \"Reprovado\"\n",
        "else:\n",
        "  print(\"Reprovado\")"
      ]
    }
  ]
}