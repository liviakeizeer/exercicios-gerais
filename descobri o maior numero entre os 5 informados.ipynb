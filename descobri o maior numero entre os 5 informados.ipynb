{
  "nbformat": 4,
  "nbformat_minor": 0,
  "metadata": {
    "colab": {
      "provenance": []
    },
    "kernelspec": {
      "name": "python3",
      "display_name": "Python 3"
    },
    "language_info": {
      "name": "python"
    }
  },
  "cells": [
    {
      "cell_type": "code",
      "execution_count": null,
      "metadata": {
        "id": "TNwaE7yY7CHO"
      },
      "outputs": [],
      "source": [
        "# descobri o maior numero entre os 5 informados\n",
        "maior_numero=0\n",
        "for contador in range(5):\n",
        " numero=int(input(\"digite numero:\"))\n",
        " if numero > maior_numero:\n",
        "  maior_numero = numero\n",
        " print(maior_numero)\n"
      ]
    }
  ]
}