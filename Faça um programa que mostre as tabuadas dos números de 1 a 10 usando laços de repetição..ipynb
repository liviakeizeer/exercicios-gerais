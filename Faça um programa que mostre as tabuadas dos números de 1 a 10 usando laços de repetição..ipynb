{
  "nbformat": 4,
  "nbformat_minor": 0,
  "metadata": {
    "colab": {
      "provenance": []
    },
    "kernelspec": {
      "name": "python3",
      "display_name": "Python 3"
    },
    "language_info": {
      "name": "python"
    }
  },
  "cells": [
    {
      "cell_type": "code",
      "execution_count": null,
      "metadata": {
        "id": "ircVv7kr7Dvs"
      },
      "outputs": [],
      "source": [
        "#Faça um programa que mostre as tabuadas dos números de 1 a 10 usando laços de repetição.\n",
        "for tabuada in range(1,11):\n",
        " for numero in range(1,11):\n",
        "   resultado = tabuada * numero\n",
        "   print(f\"{tabuada}X{numero}={resultado}\")"
      ]
    }
  ]
}