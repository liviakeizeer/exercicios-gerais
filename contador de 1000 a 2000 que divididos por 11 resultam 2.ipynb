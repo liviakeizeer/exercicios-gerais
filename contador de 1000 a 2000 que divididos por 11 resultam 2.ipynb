{
  "nbformat": 4,
  "nbformat_minor": 0,
  "metadata": {
    "colab": {
      "provenance": []
    },
    "kernelspec": {
      "name": "python3",
      "display_name": "Python 3"
    },
    "language_info": {
      "name": "python"
    }
  },
  "cells": [
    {
      "cell_type": "code",
      "execution_count": null,
      "metadata": {
        "id": "zoTen4sh7Bbe"
      },
      "outputs": [],
      "source": [
        "#Faça um programa que verifique e mostre os números entre 1.000 e 2.000\n",
        "#(inclusive) que, quando divididos por 11 produzam resto igual a 2.\n",
        "#verificar numeros\n",
        "#mostrar numeros\n",
        "#entre 1000\n",
        "for contador in range(1000,2001):\n",
        "  if contador % 11 == 2:\n",
        "    print(contador)"
      ]
    }
  ]
}