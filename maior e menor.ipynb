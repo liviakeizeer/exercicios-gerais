{
  "nbformat": 4,
  "nbformat_minor": 0,
  "metadata": {
    "colab": {
      "provenance": []
    },
    "kernelspec": {
      "name": "python3",
      "display_name": "Python 3"
    },
    "language_info": {
      "name": "python"
    }
  },
  "cells": [
    {
      "cell_type": "code",
      "execution_count": 3,
      "metadata": {
        "colab": {
          "base_uri": "https://localhost:8080/"
        },
        "id": "Vy6VLT-T2vir",
        "outputId": "852d42b4-f704-4ef9-87ff-8481aa2e49bc"
      },
      "outputs": [
        {
          "output_type": "stream",
          "name": "stdout",
          "text": [
            "digite o primeiro numero4\n",
            "digite o primeiro numero5\n",
            "digite o primeiro numero6\n",
            "4\n",
            "6\n"
          ]
        }
      ],
      "source": [
        "# Solicita ao usuário que insira o preço do primeiro produto e armazena o valor em 'a'\n",
        "a=input(\"digite o primeiro numero \")\n",
        "# Solicita ao usuário que insira o preço do segundo produtoe armazena o valor em 'b'\n",
        "b=input(\"digite o primeiro numero \")\n",
        "# Solicita ao usuário que insira o preço do terceiro produto e armazena o valor em 'c'\n",
        "c=input(\"digite o primeiro numero \")\n",
        "# Inicializa a variável 'menor' com um valor arbitrário\n",
        "maior = 0\n",
        "menor = 0\n",
        "# Este valor será substituído posteriormente pelo valor do produto com menor preço\n",
        "# Verifica qual é o menor preço entre 'a', 'b' e 'c'\n",
        "if a > b and a > c:\n",
        "  maior = a\n",
        "elif b > a and b > c:\n",
        "  maior = b\n",
        "elif c > a and c > b:\n",
        "  maior = c\n",
        "if a < b and a < c:\n",
        "  menor = a\n",
        "elif b < a and b < c:\n",
        "  menor = b\n",
        "elif c < a and c < b:\n",
        "  menor = c\n",
        "print(menor)\n",
        "print(maior)\n",
        "# Imprime o produto com o menor preço\n"
      ]
    }
  ]
}