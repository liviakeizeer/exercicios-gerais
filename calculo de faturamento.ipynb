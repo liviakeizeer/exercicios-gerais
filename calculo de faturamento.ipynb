{
  "nbformat": 4,
  "nbformat_minor": 0,
  "metadata": {
    "colab": {
      "provenance": []
    },
    "kernelspec": {
      "name": "python3",
      "display_name": "Python 3"
    },
    "language_info": {
      "name": "python"
    }
  },
  "cells": [
    {
      "cell_type": "code",
      "execution_count": null,
      "metadata": {
        "id": "tx1xh74UBH2k"
      },
      "outputs": [],
      "source": [
        "#exercicio 9\n",
        "#Uma loja deseja cadastrar 5 clientes e verificar se o faturamento da loja foi\n",
        "#superior a loja B (faturamento = 54000). Se o faturamento atingir esse valor\n",
        "#mostre na tela uma mensagem contendo em quanto foi superado o\n",
        "#faturamento.\n",
        "loja_b=54000\n",
        "loja_a=0\n",
        "for cliente in range(5):\n",
        "  gasto = float(input(f\"digite o valor gasto pelo cliente 1 {cliente + 1}\"))\n",
        "  loja_a += gasto\n",
        "if loja_a > loja_b:\n",
        " print(f\"a loja a superou o faturfamento da loja b com um valor arrecadado maior de {loja a - loja b}\")\n",
        "elif loja_b> loja_a:\n",
        " print(f\"a loja a superou o faturfamento da loja b com um valor arrecadado maior de {loja b - loja a}\")\n",
        "else:\n",
        " print(\"as duas lojas arrecadaram o valor de 54000\")"
      ]
    }
  ]
}