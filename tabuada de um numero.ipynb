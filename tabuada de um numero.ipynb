{
  "nbformat": 4,
  "nbformat_minor": 0,
  "metadata": {
    "colab": {
      "provenance": []
    },
    "kernelspec": {
      "name": "python3",
      "display_name": "Python 3"
    },
    "language_info": {
      "name": "python"
    }
  },
  "cells": [
    {
      "cell_type": "code",
      "execution_count": null,
      "metadata": {
        "id": "X5lIvEuaBVbA"
      },
      "outputs": [],
      "source": [
        "#exercicio 4\n",
        "numero=int(input(\"digite numero:\"))\n",
        "for contador in range(1,11):\n",
        "  resultado= numero*contador\n",
        "  print(resultado)"
      ]
    }
  ]
}