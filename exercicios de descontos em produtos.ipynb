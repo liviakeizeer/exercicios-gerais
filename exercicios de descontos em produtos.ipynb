{
  "nbformat": 4,
  "nbformat_minor": 0,
  "metadata": {
    "colab": {
      "provenance": []
    },
    "kernelspec": {
      "name": "python3",
      "display_name": "Python 3"
    },
    "language_info": {
      "name": "python"
    }
  },
  "cells": [
    {
      "cell_type": "code",
      "execution_count": null,
      "metadata": {
        "id": "EUxVwHiVBuwT"
      },
      "outputs": [],
      "source": [
        "#exercicio 13\n",
        "# Uma loja tem tem uma política de descontos de acordo com o valor da\n",
        "# compra do cliente. Os descontos começam acima dos R$500. A cada 100\n",
        "# reais acima dos R$500,00 o cliente ganha 1% de desconto cumulativo até 25%.\n",
        "loja_b=54000\n",
        "loja_a=0\n",
        "for cliente in range(5):\n",
        "  gasto = float(input(f\"digite o valor gasto pelo cliente 1 {cliente + 1}\"))\n",
        "  loja_a += gasto\n",
        "if loja_a > loja_b:\n",
        " print(f\"a loja a superou o faturfamento da loja b com um valor arrecadado maior de {loja a - loja b}\")\n",
        "elif loja_b> loja_a:\n",
        " print(f\"a loja a superou o faturfamento da loja b com um valor arrecadado maior de {loja b - loja a}\")\n",
        "else:\n",
        " print(\"as duas lojas arrecadaram o valor de 54000\")"
      ]
    }
  ]
}