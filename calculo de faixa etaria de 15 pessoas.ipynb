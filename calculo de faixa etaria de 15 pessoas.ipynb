{
  "nbformat": 4,
  "nbformat_minor": 0,
  "metadata": {
    "colab": {
      "provenance": []
    },
    "kernelspec": {
      "name": "python3",
      "display_name": "Python 3"
    },
    "language_info": {
      "name": "python"
    }
  },
  "cells": [
    {
      "cell_type": "code",
      "execution_count": null,
      "metadata": {
        "id": "J58LqbccCRaE"
      },
      "outputs": [],
      "source": [
        "# exercicio 14\n",
        "ate15=0\n",
        "de16a30=0\n",
        "de31a45=0\n",
        "de46a60=0\n",
        "maisde60=0\n",
        "# 14. Faça um programa que receba a idade de 15 pessoas e que calcule e mostre:\n",
        "#  A quantidade de pessoas em cada faixa etária;\n",
        "for i in range(15):\n",
        "  idade=int(input(f\"digite a {i+1}ª idade \"))\n",
        "#  Até 15 anos\n",
        "  if idade <=15:\n",
        "   ate15 += 1\n",
        "#  De 16 a 30 anos\n",
        "  if idade > 15 and idade <= 30:\n",
        "   de16a30 += 1\n",
        "#  De 31 a 45 anos\n",
        "  if idade > 30 and idade <=45:\n",
        "   de31a45 += 1\n",
        "#  De 46 a 60 anos\n",
        "  if idade > 45 and idade <= 60:\n",
        "   de46a60 += 1\n",
        "#  Acima de 61 anos\n",
        "  if idade > 61:\n",
        "   maisde60+=1\n",
        "\n",
        "porcentagem_menos_15 = (ate15 / 15) * 100\n",
        "porcentagem_maior_61 = (maisde60 / 15) * 100\n",
        "\n",
        "print(f\"Quantidades\\nDe pessoas com ate 15 anos{ate15}\\nDe pessoas de 16 a 30 anos {de16a30}\\nDe pessoas de 31 a 45 anos{de31a45}\\nDe \\nDe pessoas de 46 a 60 anos{de46a60}\\nDe pessoas Acima de 61 anos{maisde60}\")\n",
        "\n",
        "print(f\"porcentagem de pessoas menores de 15 anos, {porcentagem_menos_15}%\")\n",
        "print(f\"porcentagem de pessoas maiores de 61 anos, {porcentagem_maior_61}%\")"
      ]
    }
  ]
}