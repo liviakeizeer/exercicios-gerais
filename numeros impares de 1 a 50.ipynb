{
  "nbformat": 4,
  "nbformat_minor": 0,
  "metadata": {
    "colab": {
      "provenance": []
    },
    "kernelspec": {
      "name": "python3",
      "display_name": "Python 3"
    },
    "language_info": {
      "name": "python"
    }
  },
  "cells": [
    {
      "cell_type": "code",
      "execution_count": null,
      "metadata": {
        "id": "6QxQmzQMBpxo"
      },
      "outputs": [],
      "source": [
        "#exercicio 7\n",
        "#Faça um programa que imprima na tela apenas os números ímpares entre 1 e 50.\n",
        "for i in range(1,51,2):\n",
        "    print (i)"
      ]
    }
  ]
}