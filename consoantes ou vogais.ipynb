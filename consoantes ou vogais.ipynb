{
  "nbformat": 4,
  "nbformat_minor": 0,
  "metadata": {
    "colab": {
      "provenance": []
    },
    "kernelspec": {
      "name": "python3",
      "display_name": "Python 3"
    },
    "language_info": {
      "name": "python"
    }
  },
  "cells": [
    {
      "cell_type": "code",
      "execution_count": null,
      "metadata": {
        "id": "8TqGp72S4QaP"
      },
      "outputs": [],
      "source": [
        "a=input(\"por favor,digite uma letra \")\n",
        "# Verifica se a letra digitada é 'a', 'e', 'i', 'o' ou 'u' (vogais)\n",
        "if a == \"A\" or a == \"a\" or a ==\"E\" or a == \"e\" or a ==\"I\" or a == \"i\" or a == \"O\" or a == \"o\" or a == \"U\" or a ==\"u\":\n",
        "  print(\"voce digitou uma vogal\")\n",
        " # Se a letra digitada for uma vogal, imprime \"É uma vogal\"\n",
        "elif a == \"B\" or a == \"b\" or a == \"C\" or a == \"c\" or a == \"D\" or a == \"d\" or a == \"F\" or a == \"F\" or a == \"G\" or a == \"g\" or a == \"H\" or a == \"h\" or a == \"J\" or a == \"j\" or a == \"K\" or a == \"k\" or a == \"L\" or a == \"l\" or a == \"M\" or a == \"m\" or a == \"N\" or a == \"n\" or a == \"P\" or a == \"p\" or a == \"Q\" or a == \"q\" or a == \"R\" or a == \"r\" or a == \"S\" or a == \"s\" or  a == \"T\" or a == \"t\" or a == \"V\" or a == \"v\" or a == \"W\" or a == \"w\" or a == \"X\" or a == \"x\" or a == \"Y\" or a == \"y\" or a == \"Z\" or a == \"z\" :\n",
        " print(\"voce digitou uma consoante\")\n",
        "else:\n",
        " print(\"não identificado \")\n",
        "# Se a letra digitada não for uma das vogais, imprime \"não é uma vogal\""
      ]
    }
  ]
}