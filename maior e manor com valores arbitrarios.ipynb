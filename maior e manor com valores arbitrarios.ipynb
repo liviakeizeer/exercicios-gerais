{
  "nbformat": 4,
  "nbformat_minor": 0,
  "metadata": {
    "colab": {
      "provenance": []
    },
    "kernelspec": {
      "name": "python3",
      "display_name": "Python 3"
    },
    "language_info": {
      "name": "python"
    }
  },
  "cells": [
    {
      "cell_type": "code",
      "execution_count": null,
      "metadata": {
        "id": "xev1TVHv5MDt"
      },
      "outputs": [],
      "source": [
        "# Solicita ao usuário que insira o primeiro número e armazena o valor em 'a'\n",
        "a=float(input(\"INSIRA O PRIMEIRO NUMERO \"))\n",
        "# Solicita ao usuário que insira o segundo número e armazena o valor em 'b'\n",
        "b=float(input(\"INSIRA O SEGUNDO NUMERO \"))\n",
        "# Solicita ao usuário que insira o terceiro número e armazena o valor em 'c'\n",
        "c=float(input(\"INSIRA O TERCEIRO NUMERO \"))\n",
        "# Inicializa as variáveis 'maior' e 'menor' com valores arbitrários\n",
        "maior = 0\n",
        "menor = 0\n",
        "\n",
        "# Estes valores serão substituídos posteriormente pelos valores reais dos números inseridos pelo usuário\n",
        "\n",
        "# Verifica qual é o maior número entre 'a', 'b' e 'c'\n",
        "if a > b and a > c:\n",
        "  print(\"O maior valor e é\",a)\n",
        "  maior = a\n",
        "elif b > a and b >c :\n",
        "  print(\"O maior valor é\",b)\n",
        "  maior = b\n",
        "else:\n",
        "  print(\"O maior valor é\",c)\n",
        "  maior = c\n",
        "\n",
        "# Verifica qual é o menor número entre 'a', 'b' e 'c'\n",
        "\n",
        "if a < b and a < c:\n",
        "  print(\"o menor valor é \",a)\n",
        "elif b < a and b < c:\n",
        "  print(\"o menor valor é \",b)\n",
        "else:\n",
        "  print(\"o menor valor é \",c)\n",
        "# Imprime o maior e o menor números"
      ]
    }
  ]
}