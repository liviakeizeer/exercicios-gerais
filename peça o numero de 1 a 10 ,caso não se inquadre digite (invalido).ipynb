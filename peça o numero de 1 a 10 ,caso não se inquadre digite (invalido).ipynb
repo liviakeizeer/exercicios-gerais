{
  "nbformat": 4,
  "nbformat_minor": 0,
  "metadata": {
    "colab": {
      "provenance": []
    },
    "kernelspec": {
      "name": "python3",
      "display_name": "Python 3"
    },
    "language_info": {
      "name": "python"
    }
  },
  "cells": [
    {
      "cell_type": "code",
      "execution_count": null,
      "metadata": {
        "id": "S1zmt45fBtgr"
      },
      "outputs": [],
      "source": [
        "# exercicio 12\n",
        "# Faça um programa que peça uma nota, entre zero e dez. Mostre uma\n",
        "# mensagem caso o valor seja inválido e continue pedindo até que o usuário\n",
        "# informe um valor válido.\n",
        "for i in range(10):\n",
        " nota=int(input(\"digite um valor de 0 a 10: \"))\n",
        " if nota < 0 or nota > 10:\n",
        "  print(\"nota invalida\")\n",
        " else:\n",
        "  print(\"nota valida\")\n",
        "  break;"
      ]
    }
  ]
}